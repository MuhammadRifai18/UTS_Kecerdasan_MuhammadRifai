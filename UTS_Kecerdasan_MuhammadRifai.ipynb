{
 "cells": [
  {
   "cell_type": "code",
   "execution_count": 12,
   "id": "d08787ee-c55d-488c-b6ca-310cd36e4816",
   "metadata": {},
   "outputs": [],
   "source": [
    "# Data\n",
    "\n",
    "company_detail_list = [\n",
    "    {\n",
    "        'name': 'Company 1',\n",
    "        'domain': 'Retail',\n",
    "        'country': 'United States'\n",
    "    },\n",
    "    {\n",
    "        'name': 'Company 2',\n",
    "        'domain': 'Technology',\n",
    "        'country': 'United Kingdom'\n",
    "    },\n",
    "    {\n",
    "        'name': 'Company 3',\n",
    "        'domain': 'Healthcare',\n",
    "        'country': 'United States'\n",
    "    }\n",
    "]\n",
    "\n",
    "employee_detail_list = [\n",
    "    {\n",
    "        'name': 'EMP-0001',\n",
    "        'first_name': 'John',\n",
    "        'last_name': 'Doe',\n",
    "        'full_name': 'John Doe',\n",
    "        'company': 'Company 1',\n",
    "        'nationality': 'Australia'\n",
    "    },\n",
    "    {\n",
    "        'name': 'EMP-0002',\n",
    "        'first_name': 'Tom',\n",
    "        'last_name': 'Smith',\n",
    "        'full_name': 'Tom Smith',\n",
    "        'company': 'Company 2',\n",
    "        'nationality': 'United States'\n",
    "    },\n",
    "    {\n",
    "        'name': 'EMP-0003',\n",
    "        'first_name': 'Andrew',\n",
    "        'last_name': 'Sebastian',\n",
    "        'full_name': 'Andrew Sebastian',\n",
    "        'company': 'Company 3',\n",
    "        'nationality': 'United States'\n",
    "    },\n",
    "    {\n",
    "        'name': 'EMP-0005',\n",
    "        'first_name': 'Ying Han',\n",
    "        'last_name': 'Tan',\n",
    "        'full_name': 'Ying Han Tan',\n",
    "        'company': 'Company 1',\n",
    "        'nationality': 'Australia'\n",
    "    },\n",
    "    {\n",
    "        'name': 'EMP-0015',\n",
    "        'first_name': 'Kenneth',\n",
    "        'last_name': 'Ng',\n",
    "        'full_name': 'Kenneth Ng',\n",
    "        'company': 'Company 3',\n",
    "        'nationality': 'United States'\n",
    "    },\n",
    "    {\n",
    "        'name': 'EMP-0018',\n",
    "        'first_name': 'Rubby',\n",
    "        'last_name': 'Lee',\n",
    "        'full_name': 'Rubby Lee',\n",
    "        'company': 'Company 2',\n",
    "        'nationality': 'Hong Kong'\n",
    "    },\n",
    "    {\n",
    "        'name': 'EMP-0017',\n",
    "        'first_name': 'Robert',\n",
    "        'last_name': 'White',\n",
    "        'full_name': 'Robert White',\n",
    "        'company': 'Company 1',\n",
    "        'nationality': 'United Kingdom'\n",
    "    }\n",
    "]"
   ]
  },
  {
   "cell_type": "code",
   "execution_count": 13,
   "id": "f1853b78-3405-4461-8df2-37d1f3cd2e0e",
   "metadata": {},
   "outputs": [
    {
     "name": "stdout",
     "output_type": "stream",
     "text": [
      "Task 1 Answer:\n",
      "[{'name': 'Company 3'}, {'name': 'Company 2'}, {'name': 'Company 1'}]\n"
     ]
    }
   ],
   "source": [
    "# Task 1: Get the list of all Companies and sort by Company Name in reverse order\n",
    "sorted_companies = sorted(company_detail_list, key=lambda x: x['name'], reverse=True)\n",
    "result_task_1 = [{'name': company['name']} for company in sorted_companies]\n",
    "print(\"Task 1 Answer:\")\n",
    "print(result_task_1)"
   ]
  },
  {
   "cell_type": "code",
   "execution_count": 14,
   "id": "52af7266-b6a3-400b-890e-4dbda8720627",
   "metadata": {},
   "outputs": [
    {
     "name": "stdout",
     "output_type": "stream",
     "text": [
      "\n",
      "Task 2 Answer:\n",
      "Company 1: Retail (United States)\n",
      "Company 2: Technology (United Kingdom)\n",
      "Company 3: Healthcare (United States)\n"
     ]
    }
   ],
   "source": [
    "# Task 2: Print all Domain value in every company\n",
    "print(\"\\nTask 2 Answer:\")\n",
    "for company in company_detail_list:\n",
    "    print(f\"{company['name']}: {company['domain']} ({company['country']})\")"
   ]
  },
  {
   "cell_type": "code",
   "execution_count": 15,
   "id": "cd8d045f-084a-4d6e-b8ed-9f95b4fbf052",
   "metadata": {},
   "outputs": [
    {
     "name": "stdout",
     "output_type": "stream",
     "text": [
      "\n",
      "Task 3 Answer:\n",
      "{'Retail': ['John Doe', 'Ying Han Tan', 'Robert White'], 'Technology': ['Tom Smith', 'Rubby Lee'], 'Healthcare': ['Andrew Sebastian', 'Kenneth Ng']}\n"
     ]
    }
   ],
   "source": [
    "# Task 3: List all Employees work by company domain\n",
    "from collections import defaultdict\n",
    "\n",
    "domain_employees = defaultdict(list)\n",
    "company_domains = {company['name']: company['domain'] for company in company_detail_list}\n",
    "\n",
    "for employee in employee_detail_list:\n",
    "    domain = company_domains.get(employee['company'])\n",
    "    if domain:\n",
    "        domain_employees[domain].append(employee['full_name'])\n",
    "\n",
    "print(\"\\nTask 3 Answer:\")\n",
    "print(dict(domain_employees))"
   ]
  },
  {
   "cell_type": "code",
   "execution_count": 16,
   "id": "1a87fb75-bf3c-4584-9f57-9a777896845b",
   "metadata": {
    "scrolled": true
   },
   "outputs": [
    {
     "name": "stdout",
     "output_type": "stream",
     "text": [
      "\n",
      "Task 4 Answer:\n",
      "[{'full_name': 'John Doe', 'company': 'Company 1', 'country': 'United States'}, {'full_name': 'Tom Smith', 'company': 'Company 2', 'country': 'United Kingdom'}, {'full_name': 'Andrew Sebastian', 'company': 'Company 3', 'country': 'United States'}, {'full_name': 'Ying Han Tan', 'company': 'Company 1', 'country': 'United States'}, {'full_name': 'Kenneth Ng', 'company': 'Company 3', 'country': 'United States'}, {'full_name': 'Rubby Lee', 'company': 'Company 2', 'country': 'United Kingdom'}, {'full_name': 'Robert White', 'company': 'Company 1', 'country': 'United States'}]\n"
     ]
    }
   ],
   "source": [
    "# Task 4: Create a function that returns employees with their company country\n",
    "def get_employees_with_company_country():\n",
    "    company_countries = {company['name']: company['country'] for company in company_detail_list}\n",
    "    result = [\n",
    "        {\n",
    "            'full_name': employee['full_name'],\n",
    "            'company': employee['company'],\n",
    "            'country': company_countries.get(employee['company'])\n",
    "        }\n",
    "        for employee in employee_detail_list\n",
    "    ]\n",
    "    return result\n",
    "\n",
    "print(\"\\nTask 4 Answer:\")\n",
    "print(get_employees_with_company_country())"
   ]
  },
  {
   "cell_type": "code",
   "execution_count": 11,
   "id": "dbf4ff16-7044-441b-b93b-0f030456553f",
   "metadata": {},
   "outputs": [
    {
     "name": "stdout",
     "output_type": "stream",
     "text": [
      "\n",
      "Task 5 Answer:\n",
      "[{'company': 'Company 1', 'employee_nationality': {'Australia': 2, 'United Kingdom': 1}}, {'company': 'Company 2', 'employee_nationality': {'United States': 1, 'Hong Kong': 1}}, {'company': 'Company 3', 'employee_nationality': {'United States': 2}}]\n"
     ]
    }
   ],
   "source": [
    "# Task 5: Create a function that returns companies with the number of employees’ nationalities working in the company\n",
    "from collections import Counter, defaultdict\n",
    "\n",
    "def get_company_nationality_count():\n",
    "    company_nationality_count = defaultdict(lambda: defaultdict(int))\n",
    "    \n",
    "    for employee in employee_detail_list:\n",
    "        company = employee['company']\n",
    "        nationality = employee['nationality']\n",
    "        company_nationality_count[company][nationality] += 1\n",
    "    \n",
    "    result = [{'company': company, 'employee_nationality': dict(nationalities)}\n",
    "              for company, nationalities in company_nationality_count.items()]\n",
    "    return result\n",
    "\n",
    "print(\"\\nTask 5 Answer:\")\n",
    "print(get_company_nationality_count())"
   ]
  },
  {
   "cell_type": "code",
   "execution_count": null,
   "id": "356abeea-4b36-4c46-beba-47dbae874caf",
   "metadata": {},
   "outputs": [],
   "source": []
  }
 ],
 "metadata": {
  "kernelspec": {
   "display_name": "Python 3 (ipykernel)",
   "language": "python",
   "name": "python3"
  },
  "language_info": {
   "codemirror_mode": {
    "name": "ipython",
    "version": 3
   },
   "file_extension": ".py",
   "mimetype": "text/x-python",
   "name": "python",
   "nbconvert_exporter": "python",
   "pygments_lexer": "ipython3",
   "version": "3.12.7"
  }
 },
 "nbformat": 4,
 "nbformat_minor": 5
}
